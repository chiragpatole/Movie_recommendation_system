{
 "cells": [
  {
   "cell_type": "markdown",
   "id": "563f9642",
   "metadata": {},
   "source": [
    "## Colaborative based filtering"
   ]
  },
  {
   "cell_type": "code",
   "execution_count": 8,
   "id": "8df97b69",
   "metadata": {},
   "outputs": [],
   "source": [
    "import pandas as pd #data_manipulation\n",
    "import numpy as np #for numerical operations\n",
    "\n",
    "import seaborn as sns\n",
    "import plotly.express as px\n",
    "import plotly.graph_objects as go #these are for visulization\n",
    "import matplotlib.pyplot as plt\n",
    "\n",
    "from tqdm import tqdm #progress bars\n",
    "\n",
    "import warnings\n",
    "warnings.filterwarnings('ignore')\n",
    "from surprise import Dataset, Reader #for building and evaluating recommendation models.\n",
    "\n",
    "from surprise.prediction_algorithms.matrix_factorization import SVD\n",
    "\n",
    "from surprise import accuracy\n"
   ]
  },
  {
   "cell_type": "code",
   "execution_count": 9,
   "id": "6e536c7a",
   "metadata": {},
   "outputs": [],
   "source": [
    "ratings = pd.read_csv(\"ratings_small.csv\")"
   ]
  },
  {
   "cell_type": "code",
   "execution_count": 10,
   "id": "be39a76e",
   "metadata": {},
   "outputs": [],
   "source": [
    "movie_md = pd.read_csv(\"movies_metadata.csv\")"
   ]
  },
  {
   "cell_type": "code",
   "execution_count": 11,
   "id": "72149738",
   "metadata": {},
   "outputs": [
    {
     "data": {
      "text/html": [
       "<div>\n",
       "<style scoped>\n",
       "    .dataframe tbody tr th:only-of-type {\n",
       "        vertical-align: middle;\n",
       "    }\n",
       "\n",
       "    .dataframe tbody tr th {\n",
       "        vertical-align: top;\n",
       "    }\n",
       "\n",
       "    .dataframe thead th {\n",
       "        text-align: right;\n",
       "    }\n",
       "</style>\n",
       "<table border=\"1\" class=\"dataframe\">\n",
       "  <thead>\n",
       "    <tr style=\"text-align: right;\">\n",
       "      <th></th>\n",
       "      <th>userId</th>\n",
       "      <th>movieId</th>\n",
       "      <th>rating</th>\n",
       "      <th>timestamp</th>\n",
       "    </tr>\n",
       "  </thead>\n",
       "  <tbody>\n",
       "    <tr>\n",
       "      <th>0</th>\n",
       "      <td>1</td>\n",
       "      <td>31</td>\n",
       "      <td>2.5</td>\n",
       "      <td>1260759144</td>\n",
       "    </tr>\n",
       "    <tr>\n",
       "      <th>1</th>\n",
       "      <td>1</td>\n",
       "      <td>1029</td>\n",
       "      <td>3.0</td>\n",
       "      <td>1260759179</td>\n",
       "    </tr>\n",
       "    <tr>\n",
       "      <th>2</th>\n",
       "      <td>1</td>\n",
       "      <td>1061</td>\n",
       "      <td>3.0</td>\n",
       "      <td>1260759182</td>\n",
       "    </tr>\n",
       "    <tr>\n",
       "      <th>3</th>\n",
       "      <td>1</td>\n",
       "      <td>1129</td>\n",
       "      <td>2.0</td>\n",
       "      <td>1260759185</td>\n",
       "    </tr>\n",
       "    <tr>\n",
       "      <th>4</th>\n",
       "      <td>1</td>\n",
       "      <td>1172</td>\n",
       "      <td>4.0</td>\n",
       "      <td>1260759205</td>\n",
       "    </tr>\n",
       "  </tbody>\n",
       "</table>\n",
       "</div>"
      ],
      "text/plain": [
       "   userId  movieId  rating   timestamp\n",
       "0       1       31     2.5  1260759144\n",
       "1       1     1029     3.0  1260759179\n",
       "2       1     1061     3.0  1260759182\n",
       "3       1     1129     2.0  1260759185\n",
       "4       1     1172     4.0  1260759205"
      ]
     },
     "execution_count": 11,
     "metadata": {},
     "output_type": "execute_result"
    }
   ],
   "source": [
    "ratings.head()"
   ]
  },
  {
   "cell_type": "markdown",
   "id": "af87f134",
   "metadata": {},
   "source": [
    "#### We will consider ratings for movies which have more than 55 counts."
   ]
  },
  {
   "cell_type": "code",
   "execution_count": 12,
   "id": "0e712c24",
   "metadata": {},
   "outputs": [
    {
     "data": {
      "text/html": [
       "<div>\n",
       "<style scoped>\n",
       "    .dataframe tbody tr th:only-of-type {\n",
       "        vertical-align: middle;\n",
       "    }\n",
       "\n",
       "    .dataframe tbody tr th {\n",
       "        vertical-align: top;\n",
       "    }\n",
       "\n",
       "    .dataframe thead th {\n",
       "        text-align: right;\n",
       "    }\n",
       "</style>\n",
       "<table border=\"1\" class=\"dataframe\">\n",
       "  <thead>\n",
       "    <tr style=\"text-align: right;\">\n",
       "      <th></th>\n",
       "      <th>userId</th>\n",
       "      <th>movieId</th>\n",
       "      <th>rating</th>\n",
       "      <th>timestamp</th>\n",
       "    </tr>\n",
       "  </thead>\n",
       "  <tbody>\n",
       "    <tr>\n",
       "      <th>0</th>\n",
       "      <td>1</td>\n",
       "      <td>1371</td>\n",
       "      <td>2.5</td>\n",
       "      <td>1260759135</td>\n",
       "    </tr>\n",
       "    <tr>\n",
       "      <th>1</th>\n",
       "      <td>1</td>\n",
       "      <td>2105</td>\n",
       "      <td>4.0</td>\n",
       "      <td>1260759139</td>\n",
       "    </tr>\n",
       "    <tr>\n",
       "      <th>2</th>\n",
       "      <td>1</td>\n",
       "      <td>2294</td>\n",
       "      <td>2.0</td>\n",
       "      <td>1260759108</td>\n",
       "    </tr>\n",
       "    <tr>\n",
       "      <th>3</th>\n",
       "      <td>2</td>\n",
       "      <td>17</td>\n",
       "      <td>5.0</td>\n",
       "      <td>835355681</td>\n",
       "    </tr>\n",
       "    <tr>\n",
       "      <th>4</th>\n",
       "      <td>2</td>\n",
       "      <td>62</td>\n",
       "      <td>3.0</td>\n",
       "      <td>835355749</td>\n",
       "    </tr>\n",
       "  </tbody>\n",
       "</table>\n",
       "</div>"
      ],
      "text/plain": [
       "   userId  movieId  rating   timestamp\n",
       "0       1     1371     2.5  1260759135\n",
       "1       1     2105     4.0  1260759139\n",
       "2       1     2294     2.0  1260759108\n",
       "3       2       17     5.0   835355681\n",
       "4       2       62     3.0   835355749"
      ]
     },
     "execution_count": 12,
     "metadata": {},
     "output_type": "execute_result"
    }
   ],
   "source": [
    "# movie dataframe with votes more than 55\n",
    "movie_md = movie_md[movie_md['vote_count']>55][['id','title']]\n",
    "\n",
    "# IDs of movies with count more than 55\n",
    "movie_ids = [int(x) for x in movie_md['id'].values]\n",
    "\n",
    "# Select ratings of movies with more than 55 counts\n",
    "ratings = ratings[ratings['movieId'].isin(movie_ids)]\n",
    "\n",
    "# Reset Index\n",
    "ratings.reset_index(inplace=True, drop=True)\n",
    "\n",
    "# Print first 5 rows\n",
    "ratings.head()\n",
    "\n",
    "\n",
    "#movies with more than 55 votes are selected and corredsponding ratings are filtered based on these movies.\n"
   ]
  },
  {
   "cell_type": "code",
   "execution_count": 13,
   "id": "bd817c04",
   "metadata": {},
   "outputs": [
    {
     "data": {
      "text/plain": [
       "(29965, 4)"
      ]
     },
     "execution_count": 13,
     "metadata": {},
     "output_type": "execute_result"
    }
   ],
   "source": [
    "ratings.shape\n"
   ]
  },
  {
   "cell_type": "code",
   "execution_count": 1,
   "id": "959c81f9",
   "metadata": {},
   "outputs": [
    {
     "ename": "NameError",
     "evalue": "name 'Reader' is not defined",
     "output_type": "error",
     "traceback": [
      "\u001b[1;31m---------------------------------------------------------------------------\u001b[0m",
      "\u001b[1;31mNameError\u001b[0m                                 Traceback (most recent call last)",
      "Cell \u001b[1;32mIn[1], line 2\u001b[0m\n\u001b[0;32m      1\u001b[0m \u001b[38;5;66;03m# Initialize a surprise reader object\u001b[39;00m\n\u001b[1;32m----> 2\u001b[0m reader \u001b[38;5;241m=\u001b[39m \u001b[43mReader\u001b[49m(line_format\u001b[38;5;241m=\u001b[39m\u001b[38;5;124m'\u001b[39m\u001b[38;5;124muser item rating\u001b[39m\u001b[38;5;124m'\u001b[39m, sep\u001b[38;5;241m=\u001b[39m\u001b[38;5;124m'\u001b[39m\u001b[38;5;124m,\u001b[39m\u001b[38;5;124m'\u001b[39m, rating_scale\u001b[38;5;241m=\u001b[39m(\u001b[38;5;241m0\u001b[39m,\u001b[38;5;241m5\u001b[39m), skip_lines\u001b[38;5;241m=\u001b[39m\u001b[38;5;241m1\u001b[39m)\n\u001b[0;32m      4\u001b[0m \u001b[38;5;66;03m# Load the data\u001b[39;00m\n\u001b[0;32m      5\u001b[0m data \u001b[38;5;241m=\u001b[39m Dataset\u001b[38;5;241m.\u001b[39mload_from_df(ratings[[\u001b[38;5;124m'\u001b[39m\u001b[38;5;124muserId\u001b[39m\u001b[38;5;124m'\u001b[39m,\u001b[38;5;124m'\u001b[39m\u001b[38;5;124mmovieId\u001b[39m\u001b[38;5;124m'\u001b[39m,\u001b[38;5;124m'\u001b[39m\u001b[38;5;124mrating\u001b[39m\u001b[38;5;124m'\u001b[39m]], reader\u001b[38;5;241m=\u001b[39mreader)\n",
      "\u001b[1;31mNameError\u001b[0m: name 'Reader' is not defined"
     ]
    }
   ],
   "source": [
    "# Initialize a surprise reader object\n",
    "reader = Reader(line_format='user item rating', sep=',', rating_scale=(0,5), skip_lines=1)\n",
    "\n",
    "# Load the data\n",
    "data = Dataset.load_from_df(ratings[['userId','movieId','rating']], reader=reader)\n",
    "\n",
    "# Build trainset object(perform this only when you are using whole dataset to train)\n",
    "trainset = data.build_full_trainset()\n"
   ]
  },
  {
   "cell_type": "code",
   "execution_count": 16,
   "id": "983ff4c3",
   "metadata": {},
   "outputs": [
    {
     "data": {
      "text/plain": [
       "<surprise.prediction_algorithms.matrix_factorization.SVD at 0x17bccee90>"
      ]
     },
     "execution_count": 16,
     "metadata": {},
     "output_type": "execute_result"
    }
   ],
   "source": [
    "# Initialize model\n",
    "svd = SVD()\n",
    "\n",
    "# cross-validate\n",
    "svd.fit(trainset)\n",
    "#The surprise library is used to build a matrix factorization model for collaborative filtering .\n",
    "#the data is loaded into a surprise datset and a trainset is constructed."
   ]
  },
  {
   "cell_type": "markdown",
   "id": "d0bfc1e6",
   "metadata": {},
   "source": [
    "### we have fit the data successfully,now lets check some prediction "
   ]
  },
  {
   "cell_type": "code",
   "execution_count": 17,
   "id": "ee9c4825",
   "metadata": {},
   "outputs": [
    {
     "data": {
      "text/plain": [
       "Prediction(uid=3, iid=2959, r_ui=5.0, est=4.241495545543834, details={'was_impossible': False})"
      ]
     },
     "execution_count": 17,
     "metadata": {},
     "output_type": "execute_result"
    }
   ],
   "source": [
    "svd.predict(uid=3,iid=2959,r_ui=5.0)\n"
   ]
  },
  {
   "cell_type": "code",
   "execution_count": 18,
   "id": "fcb0728c",
   "metadata": {},
   "outputs": [
    {
     "data": {
      "text/plain": [
       "Prediction(uid=15, iid=2678, r_ui=1.0, est=2.7757018048396542, details={'was_impossible': False})"
      ]
     },
     "execution_count": 18,
     "metadata": {},
     "output_type": "execute_result"
    }
   ],
   "source": [
    "svd.predict(uid=15,iid=2678,r_ui=1.0)\n"
   ]
  },
  {
   "cell_type": "markdown",
   "id": "60cd0320",
   "metadata": {},
   "source": [
    "Prediction(uid=15, iid=2678, r_ui=1.0, est=2.7676212104701854, details={'was_impossible': False})\n",
    "When are using .predict() method where we are passing 3 arguments,i.e. userID(uid), itemID(iid) and r_ui(true rating)\n",
    "\n",
    "The output of each prediction is a tuple where est is our estimated ratings.\n",
    "\n",
    "We can see that our model is able to perform good and is able to make good predictions. However, this model can be further improved by using hyperparameter optimization techinique.\n",
    "\n",
    "Now that our models is ready we will be filling the user-item interaction matrix and will be making recommendations.\n",
    "\n"
   ]
  },
  {
   "cell_type": "code",
   "execution_count": 19,
   "id": "7102bf89",
   "metadata": {},
   "outputs": [],
   "source": [
    "def get_recommendations(data, movie_md, user_id, top_n, algo):\n",
    "    \n",
    "    # creating an empty list to store the recommended product ids\n",
    "    recommendations = []\n",
    "    \n",
    "    # creating an user item interactions matrix \n",
    "    user_movie_interactions_matrix = data.pivot(index='userId', columns='movieId', values='rating')\n",
    "    \n",
    "    # extracting those product ids which the user_id has not interacted yet\n",
    "    non_interacted_movies = user_movie_interactions_matrix.loc[user_id][user_movie_interactions_matrix.loc[user_id].isnull()].index.tolist()\n",
    "    \n",
    "    # looping through each of the product ids which user_id has not interacted yet\n",
    "    for item_id in non_interacted_movies:\n",
    "        \n",
    "        # predicting the ratings for those non interacted product ids by this user\n",
    "        est = algo.predict(user_id, item_id).est\n",
    "        \n",
    "        # appending the predicted ratings\n",
    "        movie_name = movie_md[movie_md['id']==str(item_id)]['title'].values[0]\n",
    "        recommendations.append((movie_name, est))\n",
    "\n",
    "    # sorting the predicted ratings in descending order\n",
    "    recommendations.sort(key=lambda x: x[1], reverse=True)\n",
    "\n",
    "    return recommendations[:top_n] # returing top n highest predicted rating products for this user\n"
   ]
  },
  {
   "cell_type": "code",
   "execution_count": 20,
   "id": "01050699",
   "metadata": {},
   "outputs": [
    {
     "data": {
      "text/plain": [
       "[('Dawn of the Dead', 5),\n",
       " ('Nell', 4.9634099682540604),\n",
       " ('The Sixth Sense', 4.95521615934213),\n",
       " ('The Thomas Crown Affair', 4.9446899893288965),\n",
       " ('While You Were Sleeping', 4.924757808467973),\n",
       " ('Ghost Rider', 4.890412459302687),\n",
       " ('Galaxy Quest', 4.886163957696125),\n",
       " ('Frankenstein', 4.874370086088085),\n",
       " ('Flags of Our Fathers', 4.852233741485755),\n",
       " ('Hard Target', 4.848599413852251)]"
      ]
     },
     "execution_count": 20,
     "metadata": {},
     "output_type": "execute_result"
    }
   ],
   "source": [
    "get_recommendations(data=ratings,movie_md=movie_md, user_id=654, top_n=10, algo=svd)\n"
   ]
  },
  {
   "cell_type": "markdown",
   "id": "f6a90602",
   "metadata": {},
   "source": [
    "## User based"
   ]
  },
  {
   "cell_type": "code",
   "execution_count": 21,
   "id": "54dcfff7",
   "metadata": {},
   "outputs": [],
   "source": [
    "from surprise.prediction_algorithms.knns import KNNBasic"
   ]
  },
  {
   "cell_type": "code",
   "execution_count": 22,
   "id": "c6507ba0",
   "metadata": {},
   "outputs": [
    {
     "data": {
      "text/plain": [
       "<surprise.prediction_algorithms.knns.KNNBasic at 0x1797c7310>"
      ]
     },
     "execution_count": 22,
     "metadata": {},
     "output_type": "execute_result"
    }
   ],
   "source": [
    "#Declaring the similarity options.\n",
    "sim_options = {'name': 'cosine',\n",
    "               'user_based': True}\n",
    "\n",
    "# KNN algorithm is used to find similar items\n",
    "sim_user = KNNBasic(sim_options=sim_options, verbose=False, random_state=33)\n",
    "\n",
    "# Train the algorithm on the trainset, and predict ratings for the testset\n",
    "sim_user.fit(trainset)\n"
   ]
  },
  {
   "cell_type": "code",
   "execution_count": 23,
   "id": "de2e30a2",
   "metadata": {},
   "outputs": [
    {
     "data": {
      "text/plain": [
       "Prediction(uid=2, iid=17, r_ui=5.0, est=4.166335018545322, details={'actual_k': 40, 'was_impossible': False})"
      ]
     },
     "execution_count": 23,
     "metadata": {},
     "output_type": "execute_result"
    }
   ],
   "source": [
    "#predicting rating for a sample user with an interacted product.\n",
    "sim_user.predict(uid=2,iid=17,r_ui=5.0)"
   ]
  },
  {
   "cell_type": "code",
   "execution_count": 24,
   "id": "59b0b9a8",
   "metadata": {},
   "outputs": [
    {
     "data": {
      "text/plain": [
       "Prediction(uid=671, iid=4011, r_ui=4.0, est=4.262454431125302, details={'actual_k': 40, 'was_impossible': False})"
      ]
     },
     "execution_count": 24,
     "metadata": {},
     "output_type": "execute_result"
    }
   ],
   "source": [
    "#predicting rating for a sample user with an interacted product.\n",
    "sim_user.predict(uid=671,iid=4011,r_ui=4.0)\n"
   ]
  },
  {
   "cell_type": "code",
   "execution_count": 25,
   "id": "c1dd96d9",
   "metadata": {},
   "outputs": [
    {
     "data": {
      "text/plain": [
       "[('The Wizard', 5),\n",
       " ('Rio Bravo', 5),\n",
       " ('The Celebration', 5),\n",
       " ('Spider-Man 3', 5),\n",
       " ('A Streetcar Named Desire', 5),\n",
       " ('Gentlemen Prefer Blondes', 5),\n",
       " ('The Evil Dead', 5),\n",
       " ('JFK', 5),\n",
       " ('Strangers on a Train', 5),\n",
       " (\"Singin' in the Rain\", 5)]"
      ]
     },
     "execution_count": 25,
     "metadata": {},
     "output_type": "execute_result"
    }
   ],
   "source": [
    "get_recommendations(ratings, movie_md, 671,10,sim_user)\n"
   ]
  },
  {
   "cell_type": "markdown",
   "id": "56e70670",
   "metadata": {},
   "source": [
    "## Item based"
   ]
  },
  {
   "cell_type": "code",
   "execution_count": 26,
   "id": "cf058ac3",
   "metadata": {},
   "outputs": [
    {
     "data": {
      "text/plain": [
       "<surprise.prediction_algorithms.knns.KNNBasic at 0x17bcacd10>"
      ]
     },
     "execution_count": 26,
     "metadata": {},
     "output_type": "execute_result"
    }
   ],
   "source": [
    "#Declaring the similarity options.\n",
    "sim_options = {'name': 'cosine',\n",
    "               'item_based': False}\n",
    "\n",
    "# KNN algorithm is used to find similar items\n",
    "sim_item = KNNBasic(sim_options=sim_options, verbose=False, random_state=33)\n",
    "\n",
    "# Train the algorithm on the trainset, and predict ratings for the testset\n",
    "sim_item.fit(trainset)\n"
   ]
  },
  {
   "cell_type": "code",
   "execution_count": 27,
   "id": "e7155a40",
   "metadata": {},
   "outputs": [
    {
     "data": {
      "text/plain": [
       "Prediction(uid=2, iid=17, r_ui=5.0, est=4.166335018545322, details={'actual_k': 40, 'was_impossible': False})"
      ]
     },
     "execution_count": 27,
     "metadata": {},
     "output_type": "execute_result"
    }
   ],
   "source": [
    "#predicting rating for a sample user with an interacted product.\n",
    "sim_item.predict(uid=2,iid=17,r_ui=5.0)\n"
   ]
  },
  {
   "cell_type": "code",
   "execution_count": 28,
   "id": "94d87644",
   "metadata": {},
   "outputs": [
    {
     "data": {
      "text/plain": [
       "Prediction(uid=671, iid=4011, r_ui=4.0, est=4.262454431125302, details={'actual_k': 40, 'was_impossible': False})"
      ]
     },
     "execution_count": 28,
     "metadata": {},
     "output_type": "execute_result"
    }
   ],
   "source": [
    "#predicting rating for a sample user with an interacted product.\n",
    "sim_item.predict(uid=671,iid=4011,r_ui=4.0)\n"
   ]
  },
  {
   "cell_type": "code",
   "execution_count": 29,
   "id": "0b59fb19",
   "metadata": {},
   "outputs": [
    {
     "data": {
      "text/plain": [
       "[('The Wizard', 5),\n",
       " ('Rio Bravo', 5),\n",
       " ('The Celebration', 5),\n",
       " ('Spider-Man 3', 5),\n",
       " ('A Streetcar Named Desire', 5),\n",
       " ('Gentlemen Prefer Blondes', 5),\n",
       " ('The Evil Dead', 5),\n",
       " ('JFK', 5),\n",
       " ('Strangers on a Train', 5),\n",
       " (\"Singin' in the Rain\", 5)]"
      ]
     },
     "execution_count": 29,
     "metadata": {},
     "output_type": "execute_result"
    }
   ],
   "source": [
    "get_recommendations(ratings, movie_md, 671,10,sim_item)\n"
   ]
  },
  {
   "cell_type": "code",
   "execution_count": null,
   "id": "ebd0c553",
   "metadata": {},
   "outputs": [],
   "source": []
  }
 ],
 "metadata": {
  "kernelspec": {
   "display_name": "Python 3 (ipykernel)",
   "language": "python",
   "name": "python3"
  },
  "language_info": {
   "codemirror_mode": {
    "name": "ipython",
    "version": 3
   },
   "file_extension": ".py",
   "mimetype": "text/x-python",
   "name": "python",
   "nbconvert_exporter": "python",
   "pygments_lexer": "ipython3",
   "version": "3.11.5"
  }
 },
 "nbformat": 4,
 "nbformat_minor": 5
}
